{
 "cells": [
  {
   "cell_type": "code",
   "execution_count": 58,
   "metadata": {},
   "outputs": [
    {
     "name": "stdout",
     "output_type": "stream",
     "text": [
      "Enter the data in integers, type 'Stop' when finished\n",
      "5\n",
      "6\n",
      "3\n",
      "2\n",
      "8\n",
      "3\n",
      "4\n",
      "1\n",
      "9\n",
      "10\n",
      "stop\n",
      "[5, 6, 3, 2, 8, 3, 4, 1, 9, 10]\n"
     ]
    }
   ],
   "source": [
    "#collecting ungrouped data input from user\n",
    "print(\"Enter the data in integers, type 'Stop' when finished\")\n",
    "try:\n",
    "    x = []\n",
    "    while True:\n",
    "        x.append(int(input()))\n",
    "        \n",
    "except:\n",
    "    print(x)"
   ]
  },
  {
   "cell_type": "code",
   "execution_count": 59,
   "metadata": {},
   "outputs": [
    {
     "name": "stdout",
     "output_type": "stream",
     "text": [
      "[1, 2, 3, 3, 4, 5, 6, 8, 9, 10] 10\n"
     ]
    }
   ],
   "source": [
    "#sorting elements in the list in ascending order\n",
    "x.sort()\n",
    "n = len(x)\n",
    "print (x, n)"
   ]
  },
  {
   "cell_type": "code",
   "execution_count": 68,
   "metadata": {},
   "outputs": [],
   "source": [
    "#mean function\n",
    "def mean():\n",
    "    mean.sum_x = sum(x)\n",
    "    mean.mean_x = mean.sum_x / n\n",
    "    print(mean.mean_x)\n",
    "    return\n",
    "\n",
    "#median function\n",
    "def median():\n",
    "    \n",
    "    #case where number of elements is odd\n",
    "    if (n % 2) != 0:\n",
    "        median.index = int((n+1)/2)\n",
    "        median.odd = x[median.index]\n",
    "        print (median.odd)\n",
    "        \n",
    "    #case where number of elements is even\n",
    "    else:\n",
    "        median.index1 = int((n-1)/2)\n",
    "        median.index2 = int(n/2)\n",
    "        median.even = (x[median.index1] + x[median.index2]) / 2\n",
    "        print (median.even)\n",
    "\n",
    "#mode function        \n",
    "def mode():\n",
    "    mode.mode_x = max(set(x), key = x.count)\n",
    "    print (mode.mode_x)\n",
    "    \n",
    "#variance function\n",
    "def var():\n",
    "    var.x_squared = [number ** 2 for number in x]\n",
    "    var.sum_x_squared = sum(var.x_squared)\n",
    "    var.variance = (var.sum_x_squared / n) - mean.mean_x**2\n",
    "    print(var.variance)\n",
    "    return    "
   ]
  },
  {
   "cell_type": "code",
   "execution_count": 67,
   "metadata": {},
   "outputs": [
    {
     "name": "stdout",
     "output_type": "stream",
     "text": [
      "4.5\n",
      "3\n"
     ]
    }
   ],
   "source": [
    "median()\n",
    "mode()"
   ]
  },
  {
   "cell_type": "code",
   "execution_count": 75,
   "metadata": {},
   "outputs": [
    {
     "name": "stdout",
     "output_type": "stream",
     "text": [
      "Enter the data in integers, type 'Stop' when finished\n",
      "2\n",
      "3\n",
      "4\n",
      "5\n",
      "3\n",
      "5\n",
      "3\n",
      "1\n",
      "8\n",
      "9\n",
      "6\n",
      "7\n",
      "5\n",
      "7\n",
      "3\n",
      "5\n",
      "6\n",
      "1\n",
      "2\n",
      "8\n",
      "9\n",
      "stop\n",
      "[2, 3, 4, 5, 3, 5, 3, 1, 8, 9, 6, 7, 5, 7, 3, 5, 6, 1, 2, 8, 9]\n",
      "[1, 1, 2, 2, 3, 3, 3, 3, 4, 5, 5, 5, 5, 6, 6, 7, 7, 8, 8, 9, 9] 21\n",
      "The mode is:  3\n",
      "The median is:  5\n",
      "The mean is:  4.857142857142857\n",
      "The variance is:  6.027210884353746\n"
     ]
    }
   ],
   "source": [
    "def mean():\n",
    "    mean.sum_x = sum(x)\n",
    "    mean.mean_x = mean.sum_x / n\n",
    "    print(\"The mean is: \", mean.mean_x)\n",
    "    return\n",
    "\n",
    "def median():\n",
    "    if (n % 2) != 0:\n",
    "        median.index = int((n+1)/2)\n",
    "        median.odd = x[median.index]\n",
    "        print (\"The median is: \", median.odd)\n",
    "        \n",
    "    else:\n",
    "        median.index1 = int((n-1)/2)\n",
    "        median.index2 = int(n/2)\n",
    "        median.even = (x[median.index1] + x[median.index2]) / 2\n",
    "        print (\"The median is: \", median.even)\n",
    "    return\n",
    "        \n",
    "def mode():\n",
    "    mode.mode_x = max(set(x), key = x.count)\n",
    "    print (\"The mode is: \", mode.mode_x)\n",
    "    return\n",
    "        \n",
    "def var():\n",
    "    var.x_squared = [number ** 2 for number in x]\n",
    "    var.sum_x_squared = sum(var.x_squared)\n",
    "    var.variance = (var.sum_x_squared / n) - mean.mean_x**2\n",
    "    print(\"The variance is: \", var.variance)\n",
    "    return    \n",
    "\n",
    "print(\"Enter the data in integers, type 'Stop' when finished\")\n",
    "try:\n",
    "    x = []\n",
    "    while True:\n",
    "        x.append(int(input()))\n",
    "        \n",
    "except:\n",
    "    print(x)\n",
    "    \n",
    "x.sort()\n",
    "n = len(x)\n",
    "print (x, n)\n",
    "\n",
    "mode()\n",
    "median()\n",
    "mean()\n",
    "var()"
   ]
  },
  {
   "cell_type": "markdown",
   "metadata": {},
   "source": []
  }
 ],
 "metadata": {
  "kernelspec": {
   "display_name": "Python 3",
   "language": "python",
   "name": "python3"
  },
  "language_info": {
   "codemirror_mode": {
    "name": "ipython",
    "version": 3
   },
   "file_extension": ".py",
   "mimetype": "text/x-python",
   "name": "python",
   "nbconvert_exporter": "python",
   "pygments_lexer": "ipython3",
   "version": "3.8.3"
  }
 },
 "nbformat": 4,
 "nbformat_minor": 4
}
